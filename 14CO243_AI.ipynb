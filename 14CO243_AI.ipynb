{
 "cells": [
  {
   "cell_type": "code",
   "execution_count": 2,
   "metadata": {},
   "outputs": [
    {
     "name": "stderr",
     "output_type": "stream",
     "text": [
      "Using TensorFlow backend.\n"
     ]
    }
   ],
   "source": [
    "from __future__ import print_function\n",
    "\n",
    "import keras\n",
    "from keras.datasets import mnist\n",
    "from keras.models import Sequential\n",
    "from keras.layers import Dense, Dropout\n",
    "from keras.optimizers import *\n",
    "import matplotlib.pyplot as plt"
   ]
  },
  {
   "cell_type": "code",
   "execution_count": 3,
   "metadata": {},
   "outputs": [],
   "source": [
    "batch_size = 64\n",
    "num_classes = 10\n",
    "epochs = 50"
   ]
  },
  {
   "cell_type": "code",
   "execution_count": 4,
   "metadata": {},
   "outputs": [],
   "source": [
    "(x_train, y_train), (x_test, y_test) = mnist.load_data()\n",
    "\n",
    "#splitting the dataset into training and testing data\n",
    "x_train = x_train.reshape(60000, 784)\n",
    "x_test = x_test.reshape(10000, 784)\n",
    "\n",
    "x_train = x_train.astype('float32')\n",
    "x_test = x_test.astype('float32')\n",
    "\n",
    "#normalisation\n",
    "x_train /= 255\n",
    "x_test /= 255"
   ]
  },
  {
   "cell_type": "code",
   "execution_count": 5,
   "metadata": {},
   "outputs": [
    {
     "name": "stdout",
     "output_type": "stream",
     "text": [
      "60000 training data\n",
      "10000 test data\n"
     ]
    }
   ],
   "source": [
    "print(x_train.shape[0], 'training data')\n",
    "print(x_test.shape[0], 'test data')"
   ]
  },
  {
   "cell_type": "code",
   "execution_count": 6,
   "metadata": {},
   "outputs": [],
   "source": [
    "#binaary class matrices\n",
    "y_train = keras.utils.to_categorical(y_train, num_classes)\n",
    "y_test = keras.utils.to_categorical(y_test, num_classes)"
   ]
  },
  {
   "cell_type": "code",
   "execution_count": 7,
   "metadata": {},
   "outputs": [],
   "source": [
    "#The model used here is the sequential model\n",
    "model = Sequential()\n",
    "model.add(Dense(512, activation='relu', input_shape=(784,)))\n",
    "model.add(Dense(784, activation='relu'))\n",
    "model.add(Dense(num_classes, activation='softmax'))\n"
   ]
  },
  {
   "cell_type": "code",
   "execution_count": 8,
   "metadata": {},
   "outputs": [
    {
     "name": "stdout",
     "output_type": "stream",
     "text": [
      "_________________________________________________________________\n",
      "Layer (type)                 Output Shape              Param #   \n",
      "=================================================================\n",
      "dense_1 (Dense)              (None, 512)               401920    \n",
      "_________________________________________________________________\n",
      "dropout_1 (Dropout)          (None, 512)               0         \n",
      "_________________________________________________________________\n",
      "dense_2 (Dense)              (None, 784)               402192    \n",
      "_________________________________________________________________\n",
      "dropout_2 (Dropout)          (None, 784)               0         \n",
      "_________________________________________________________________\n",
      "dense_3 (Dense)              (None, 10)                7850      \n",
      "=================================================================\n",
      "Total params: 811,962\n",
      "Trainable params: 811,962\n",
      "Non-trainable params: 0\n",
      "_________________________________________________________________\n",
      "Train on 60000 samples, validate on 10000 samples\n",
      "Epoch 1/50\n",
      "60000/60000 [==============================] - 38s 634us/step - loss: 0.2156 - acc: 0.9366 - val_loss: 0.1027 - val_acc: 0.9693\n",
      "Epoch 2/50\n",
      "60000/60000 [==============================] - 34s 572us/step - loss: 0.0927 - acc: 0.9721 - val_loss: 0.0741 - val_acc: 0.9774\n",
      "Epoch 3/50\n",
      "60000/60000 [==============================] - 34s 568us/step - loss: 0.0674 - acc: 0.9792 - val_loss: 0.0701 - val_acc: 0.9802\n",
      "Epoch 4/50\n",
      "60000/60000 [==============================] - 35s 584us/step - loss: 0.0536 - acc: 0.9833 - val_loss: 0.0633 - val_acc: 0.9819\n",
      "Epoch 5/50\n",
      "60000/60000 [==============================] - 31s 520us/step - loss: 0.0424 - acc: 0.9869 - val_loss: 0.0623 - val_acc: 0.9818\n",
      "Epoch 6/50\n",
      "60000/60000 [==============================] - 31s 512us/step - loss: 0.0347 - acc: 0.9896 - val_loss: 0.0593 - val_acc: 0.9830\n",
      "Epoch 7/50\n",
      "60000/60000 [==============================] - 32s 528us/step - loss: 0.0293 - acc: 0.9912 - val_loss: 0.0575 - val_acc: 0.9839\n",
      "Epoch 8/50\n",
      "60000/60000 [==============================] - 31s 523us/step - loss: 0.0254 - acc: 0.9923 - val_loss: 0.0582 - val_acc: 0.9830\n",
      "Epoch 9/50\n",
      "60000/60000 [==============================] - 34s 574us/step - loss: 0.0222 - acc: 0.9934 - val_loss: 0.0564 - val_acc: 0.9845\n",
      "Epoch 10/50\n",
      "60000/60000 [==============================] - 33s 558us/step - loss: 0.0197 - acc: 0.9943 - val_loss: 0.0561 - val_acc: 0.9838\n",
      "Epoch 11/50\n",
      "60000/60000 [==============================] - 38s 631us/step - loss: 0.0176 - acc: 0.9952 - val_loss: 0.0565 - val_acc: 0.9842\n",
      "Epoch 12/50\n",
      "60000/60000 [==============================] - 32s 539us/step - loss: 0.0149 - acc: 0.9957 - val_loss: 0.0577 - val_acc: 0.9853\n",
      "Epoch 13/50\n",
      "60000/60000 [==============================] - 32s 539us/step - loss: 0.0141 - acc: 0.9960 - val_loss: 0.0564 - val_acc: 0.9859\n",
      "Epoch 14/50\n",
      "60000/60000 [==============================] - 34s 566us/step - loss: 0.0127 - acc: 0.9962 - val_loss: 0.0554 - val_acc: 0.9853\n",
      "Epoch 15/50\n",
      "60000/60000 [==============================] - 34s 561us/step - loss: 0.0110 - acc: 0.9970 - val_loss: 0.0568 - val_acc: 0.9852\n",
      "Epoch 16/50\n",
      "60000/60000 [==============================] - 34s 571us/step - loss: 0.0109 - acc: 0.9969 - val_loss: 0.0565 - val_acc: 0.9848\n",
      "Epoch 17/50\n",
      "60000/60000 [==============================] - 34s 569us/step - loss: 0.0101 - acc: 0.9972 - val_loss: 0.0587 - val_acc: 0.9851\n",
      "Epoch 18/50\n",
      "60000/60000 [==============================] - 34s 562us/step - loss: 0.0088 - acc: 0.9976 - val_loss: 0.0601 - val_acc: 0.9847\n",
      "Epoch 19/50\n",
      "60000/60000 [==============================] - 33s 552us/step - loss: 0.0085 - acc: 0.9978 - val_loss: 0.0592 - val_acc: 0.9859\n",
      "Epoch 20/50\n",
      "60000/60000 [==============================] - 34s 574us/step - loss: 0.0081 - acc: 0.9980 - val_loss: 0.0584 - val_acc: 0.9862\n",
      "Epoch 21/50\n",
      "60000/60000 [==============================] - 44s 736us/step - loss: 0.0076 - acc: 0.9979 - val_loss: 0.0605 - val_acc: 0.9859\n",
      "Epoch 22/50\n",
      "60000/60000 [==============================] - 32s 539us/step - loss: 0.0069 - acc: 0.9985 - val_loss: 0.0598 - val_acc: 0.9854\n",
      "Epoch 23/50\n",
      "60000/60000 [==============================] - 35s 583us/step - loss: 0.0067 - acc: 0.9982 - val_loss: 0.0588 - val_acc: 0.9857\n",
      "Epoch 24/50\n",
      "60000/60000 [==============================] - 35s 585us/step - loss: 0.0060 - acc: 0.9984 - val_loss: 0.0600 - val_acc: 0.9853\n",
      "Epoch 25/50\n",
      "60000/60000 [==============================] - 37s 611us/step - loss: 0.0060 - acc: 0.9983 - val_loss: 0.0594 - val_acc: 0.9859\n",
      "Epoch 26/50\n",
      "60000/60000 [==============================] - 30s 508us/step - loss: 0.0057 - acc: 0.9986 - val_loss: 0.0609 - val_acc: 0.9856\n",
      "Epoch 27/50\n",
      "60000/60000 [==============================] - 35s 591us/step - loss: 0.0052 - acc: 0.9988 - val_loss: 0.0607 - val_acc: 0.9864\n",
      "Epoch 28/50\n",
      "60000/60000 [==============================] - 31s 509us/step - loss: 0.0051 - acc: 0.9987 - val_loss: 0.0620 - val_acc: 0.9854\n",
      "Epoch 29/50\n",
      "60000/60000 [==============================] - 33s 557us/step - loss: 0.0044 - acc: 0.9990 - val_loss: 0.0605 - val_acc: 0.9851\n",
      "Epoch 30/50\n",
      "60000/60000 [==============================] - 35s 586us/step - loss: 0.0048 - acc: 0.9989 - val_loss: 0.0616 - val_acc: 0.9850\n",
      "Epoch 31/50\n",
      "60000/60000 [==============================] - 31s 524us/step - loss: 0.0044 - acc: 0.9989 - val_loss: 0.0629 - val_acc: 0.9858\n",
      "Epoch 32/50\n",
      "60000/60000 [==============================] - 37s 618us/step - loss: 0.0037 - acc: 0.9993 - val_loss: 0.0634 - val_acc: 0.9851\n",
      "Epoch 33/50\n",
      "60000/60000 [==============================] - 32s 533us/step - loss: 0.0040 - acc: 0.9990 - val_loss: 0.0627 - val_acc: 0.9858\n",
      "Epoch 34/50\n",
      "60000/60000 [==============================] - 33s 546us/step - loss: 0.0039 - acc: 0.9991 - val_loss: 0.0622 - val_acc: 0.9856\n",
      "Epoch 35/50\n",
      "60000/60000 [==============================] - 33s 544us/step - loss: 0.0040 - acc: 0.9990 - val_loss: 0.0619 - val_acc: 0.9858\n",
      "Epoch 36/50\n",
      "60000/60000 [==============================] - 31s 513us/step - loss: 0.0037 - acc: 0.9992 - val_loss: 0.0609 - val_acc: 0.9860\n",
      "Epoch 37/50\n",
      "60000/60000 [==============================] - 32s 540us/step - loss: 0.0038 - acc: 0.9990 - val_loss: 0.0618 - val_acc: 0.9858\n",
      "Epoch 38/50\n",
      "60000/60000 [==============================] - 34s 562us/step - loss: 0.0036 - acc: 0.9990 - val_loss: 0.0618 - val_acc: 0.9862\n",
      "Epoch 39/50\n",
      "60000/60000 [==============================] - 36s 598us/step - loss: 0.0034 - acc: 0.9993 - val_loss: 0.0614 - val_acc: 0.9866\n",
      "Epoch 40/50\n",
      "60000/60000 [==============================] - 33s 551us/step - loss: 0.0030 - acc: 0.9992 - val_loss: 0.0632 - val_acc: 0.9862\n",
      "Epoch 41/50\n",
      "60000/60000 [==============================] - 34s 568us/step - loss: 0.0027 - acc: 0.9995 - val_loss: 0.0633 - val_acc: 0.9854\n",
      "Epoch 42/50\n",
      "60000/60000 [==============================] - 36s 592us/step - loss: 0.0031 - acc: 0.9993 - val_loss: 0.0632 - val_acc: 0.9859\n",
      "Epoch 43/50\n",
      "60000/60000 [==============================] - 35s 591us/step - loss: 0.0029 - acc: 0.9994 - val_loss: 0.0622 - val_acc: 0.9862\n",
      "Epoch 44/50\n",
      "60000/60000 [==============================] - 34s 574us/step - loss: 0.0029 - acc: 0.9994 - val_loss: 0.0644 - val_acc: 0.9856\n",
      "Epoch 45/50\n",
      "60000/60000 [==============================] - 31s 521us/step - loss: 0.0026 - acc: 0.9994 - val_loss: 0.0630 - val_acc: 0.9854\n",
      "Epoch 46/50\n",
      "60000/60000 [==============================] - 33s 544us/step - loss: 0.0028 - acc: 0.9993 - val_loss: 0.0619 - val_acc: 0.9864\n",
      "Epoch 47/50\n",
      "60000/60000 [==============================] - 32s 540us/step - loss: 0.0026 - acc: 0.9995 - val_loss: 0.0643 - val_acc: 0.9856\n",
      "Epoch 48/50\n",
      "60000/60000 [==============================] - 32s 534us/step - loss: 0.0023 - acc: 0.9995 - val_loss: 0.0642 - val_acc: 0.9858\n",
      "Epoch 49/50\n",
      "60000/60000 [==============================] - 36s 594us/step - loss: 0.0023 - acc: 0.9996 - val_loss: 0.0643 - val_acc: 0.9850\n",
      "Epoch 50/50\n",
      "60000/60000 [==============================] - 32s 533us/step - loss: 0.0022 - acc: 0.9996 - val_loss: 0.0636 - val_acc: 0.9853\n"
     ]
    }
   ],
   "source": [
    "model.summary()\n",
    "#sgd = keras.optimizers.SGD(lr=0.01, momentum=0.1, decay=0.0, nesterov=False)\n",
    "sgd = keras.optimizers.Adagrad(lr=0.01, epsilon=None, decay=0.0)\n",
    "model.compile(loss='categorical_crossentropy',\n",
    "              optimizer=sgd,\n",
    "              metrics=['accuracy'])\n",
    "\n",
    "history = model.fit(x_train, y_train,\n",
    "                    batch_size=batch_size,\n",
    "                    epochs=epochs,\n",
    "                    verbose=1,\n",
    "                    validation_data=(x_test, y_test))\n"
   ]
  },
  {
   "cell_type": "code",
   "execution_count": 9,
   "metadata": {},
   "outputs": [
    {
     "name": "stdout",
     "output_type": "stream",
     "text": [
      "Total loss: 0.06361921960237482\n",
      "Accuracy of the test datset: 98.53\n"
     ]
    }
   ],
   "source": [
    "score = model.evaluate(x_test, y_test, verbose=0)\n",
    "print('Total loss:', score[0])\n",
    "print('Accuracy of the test datset:', score[1]*100)"
   ]
  },
  {
   "cell_type": "code",
   "execution_count": 10,
   "metadata": {},
   "outputs": [
    {
     "data": {
      "image/png": "[encoded data removed]",
      "text/plain": [
       "<matplotlib.figure.Figure at 0x7f60dffddd10>"
      ]
     },
     "metadata": {},
     "output_type": "display_data"
    }
   ],
   "source": [
    "plt.plot(history.history['acc'])\n",
    "plt.plot(history.history['val_acc'])\n",
    "plt.title('model accuracy')\n",
    "plt.ylabel('accuracy')\n",
    "plt.xlabel('epoch')\n",
    "plt.legend(['train', 'test'], loc='upper left')\n",
    "plt.show()"
   ]
  },
  {
   "cell_type": "code",
   "execution_count": 11,
   "metadata": {},
   "outputs": [
    {
     "data": {
      "image/png": "[encoded data removed]",
      "text/plain": [
       "<matplotlib.figure.Figure at 0x7f6116606f90>"
      ]
     },
     "metadata": {},
     "output_type": "display_data"
    }
   ],
   "source": [
    "# summarize history for loss\n",
    "plt.plot(history.history['loss'])\n",
    "plt.plot(history.history['val_loss'])\n",
    "plt.title('model loss')\n",
    "plt.ylabel('loss')\n",
    "plt.xlabel('epoch')\n",
    "plt.legend(['train', 'test'], loc='upper left')\n",
    "plt.show()"
   ]
  },
  {
   "cell_type": "code",
   "execution_count": null,
   "metadata": {},
   "outputs": [],
   "source": []
  }
 ],
 "metadata": {
  "kernelspec": {
   "display_name": "Python 2",
   "language": "python",
   "name": "python2"
  },
  "language_info": {
   "codemirror_mode": {
    "name": "ipython",
    "version": 2
   },
   "file_extension": ".py",
   "mimetype": "text/x-python",
   "name": "python",
   "nbconvert_exporter": "python",
   "pygments_lexer": "ipython2",
   "version": "2.7.9"
  }
 },
 "nbformat": 4,
 "nbformat_minor": 2
}
